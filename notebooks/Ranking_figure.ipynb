{
 "cells": [
  {
   "cell_type": "code",
   "execution_count": 9,
   "id": "8cb65ef4-401a-4d9d-86b9-a99ef7edd7ee",
   "metadata": {},
   "outputs": [],
   "source": [
    "import altair as alt\n",
    "from vega_datasets import data\n",
    "import pandas as pd\n",
    "from altair_saver import save"
   ]
  },
  {
   "cell_type": "code",
   "execution_count": 14,
   "id": "9458f919-9f80-4695-9226-c5e5537f4f29",
   "metadata": {},
   "outputs": [
    {
     "data": {
      "text/html": [
       "\n",
       "<div id=\"altair-viz-6bc0964c7a7d43f797cea8856f8cfa3d\"></div>\n",
       "<script type=\"text/javascript\">\n",
       "  var VEGA_DEBUG = (typeof VEGA_DEBUG == \"undefined\") ? {} : VEGA_DEBUG;\n",
       "  (function(spec, embedOpt){\n",
       "    let outputDiv = document.currentScript.previousElementSibling;\n",
       "    if (outputDiv.id !== \"altair-viz-6bc0964c7a7d43f797cea8856f8cfa3d\") {\n",
       "      outputDiv = document.getElementById(\"altair-viz-6bc0964c7a7d43f797cea8856f8cfa3d\");\n",
       "    }\n",
       "    const paths = {\n",
       "      \"vega\": \"https://cdn.jsdelivr.net/npm//vega@5?noext\",\n",
       "      \"vega-lib\": \"https://cdn.jsdelivr.net/npm//vega-lib?noext\",\n",
       "      \"vega-lite\": \"https://cdn.jsdelivr.net/npm//vega-lite@4.17.0?noext\",\n",
       "      \"vega-embed\": \"https://cdn.jsdelivr.net/npm//vega-embed@6?noext\",\n",
       "    };\n",
       "\n",
       "    function maybeLoadScript(lib, version) {\n",
       "      var key = `${lib.replace(\"-\", \"\")}_version`;\n",
       "      return (VEGA_DEBUG[key] == version) ?\n",
       "        Promise.resolve(paths[lib]) :\n",
       "        new Promise(function(resolve, reject) {\n",
       "          var s = document.createElement('script');\n",
       "          document.getElementsByTagName(\"head\")[0].appendChild(s);\n",
       "          s.async = true;\n",
       "          s.onload = () => {\n",
       "            VEGA_DEBUG[key] = version;\n",
       "            return resolve(paths[lib]);\n",
       "          };\n",
       "          s.onerror = () => reject(`Error loading script: ${paths[lib]}`);\n",
       "          s.src = paths[lib];\n",
       "        });\n",
       "    }\n",
       "\n",
       "    function showError(err) {\n",
       "      outputDiv.innerHTML = `<div class=\"error\" style=\"color:red;\">${err}</div>`;\n",
       "      throw err;\n",
       "    }\n",
       "\n",
       "    function displayChart(vegaEmbed) {\n",
       "      vegaEmbed(outputDiv, spec, embedOpt)\n",
       "        .catch(err => showError(`Javascript Error: ${err.message}<br>This usually means there's a typo in your chart specification. See the javascript console for the full traceback.`));\n",
       "    }\n",
       "\n",
       "    if(typeof define === \"function\" && define.amd) {\n",
       "      requirejs.config({paths});\n",
       "      require([\"vega-embed\"], displayChart, err => showError(`Error loading script: ${err.message}`));\n",
       "    } else {\n",
       "      maybeLoadScript(\"vega\", \"5\")\n",
       "        .then(() => maybeLoadScript(\"vega-lite\", \"4.17.0\"))\n",
       "        .then(() => maybeLoadScript(\"vega-embed\", \"6\"))\n",
       "        .catch(showError)\n",
       "        .then(() => displayChart(vegaEmbed));\n",
       "    }\n",
       "  })({\"config\": {\"view\": {\"continuousWidth\": 400, \"continuousHeight\": 300}, \"point\": {\"size\": 100}}, \"data\": {\"name\": \"data-0d4ba0e5c624a70fb16b5977c2103ed9\"}, \"mark\": {\"type\": \"line\", \"point\": true, \"strokeWidth\": 3}, \"encoding\": {\"color\": {\"field\": \"Country\", \"scale\": {\"scheme\": \"category20\"}, \"sort\": \"x\", \"type\": \"nominal\"}, \"x\": {\"field\": \"perc_type\", \"title\": \"Percolation Type\", \"type\": \"nominal\"}, \"y\": {\"field\": \"rank\", \"type\": \"ordinal\"}}, \"height\": 350, \"title\": \"Least affected countries\", \"transform\": [{\"window\": [{\"op\": \"rank\", \"field\": \"\", \"as\": \"rank\"}], \"groupby\": [\"perc_type\"], \"sort\": [{\"field\": \"index\", \"order\": \"ascending\"}]}], \"width\": 600, \"$schema\": \"https://vega.github.io/schema/vega-lite/v4.17.0.json\", \"datasets\": {\"data-0d4ba0e5c624a70fb16b5977c2103ed9\": [{\"Country\": \"Kiribati\", \"perc_type\": \"Local 0.5 degree\", \"index\": 3.5}, {\"Country\": \"Kiribati\", \"perc_type\": \"Local 0.1 degree\", \"index\": 2.0}, {\"Country\": \"Kiribati\", \"perc_type\": \"Local 0.05 degree\", \"index\": 1.5}, {\"Country\": \"Kiribati\", \"perc_type\": \"Targeted Attack\", \"index\": 17.0}, {\"Country\": \"Kiribati\", \"perc_type\": \"Random Attack\", \"index\": 19.0}, {\"Country\": \"Kiribati\", \"perc_type\": \" Resilience Index\", \"index\": 20.0}, {\"Country\": \"Papua New Guinea\", \"perc_type\": \"Local 0.5 degree\", \"index\": 7.0}, {\"Country\": \"Papua New Guinea\", \"perc_type\": \"Local 0.1 degree\", \"index\": 11.0}, {\"Country\": \"Papua New Guinea\", \"perc_type\": \"Local 0.05 degree\", \"index\": 14.0}, {\"Country\": \"Papua New Guinea\", \"perc_type\": \"Targeted Attack\", \"index\": 20.0}, {\"Country\": \"Papua New Guinea\", \"perc_type\": \"Random Attack\", \"index\": 11.0}, {\"Country\": \"Papua New Guinea\", \"perc_type\": \" Resilience Index\", \"index\": 19.0}, {\"Country\": \"Trinidad and Tobago\", \"perc_type\": \"Local 0.5 degree\", \"index\": 20.0}, {\"Country\": \"Trinidad and Tobago\", \"perc_type\": \"Local 0.1 degree\", \"index\": 19.0}, {\"Country\": \"Trinidad and Tobago\", \"perc_type\": \"Local 0.05 degree\", \"index\": 7.0}, {\"Country\": \"Trinidad and Tobago\", \"perc_type\": \"Targeted Attack\", \"index\": 2.0}, {\"Country\": \"Trinidad and Tobago\", \"perc_type\": \"Random Attack\", \"index\": 6.0}, {\"Country\": \"Trinidad and Tobago\", \"perc_type\": \" Resilience Index\", \"index\": 18.0}, {\"Country\": \"Togo\", \"perc_type\": \"Local 0.5 degree\", \"index\": 15.0}, {\"Country\": \"Togo\", \"perc_type\": \"Local 0.1 degree\", \"index\": 13.0}, {\"Country\": \"Togo\", \"perc_type\": \"Local 0.05 degree\", \"index\": 15.0}, {\"Country\": \"Togo\", \"perc_type\": \"Targeted Attack\", \"index\": 14.0}, {\"Country\": \"Togo\", \"perc_type\": \"Random Attack\", \"index\": 7.0}, {\"Country\": \"Togo\", \"perc_type\": \" Resilience Index\", \"index\": 17.0}, {\"Country\": \"Tajikistan\", \"perc_type\": \"Local 0.5 degree\", \"index\": 12.0}, {\"Country\": \"Tajikistan\", \"perc_type\": \"Local 0.1 degree\", \"index\": 9.0}, {\"Country\": \"Tajikistan\", \"perc_type\": \"Local 0.05 degree\", \"index\": 11.0}, {\"Country\": \"Tajikistan\", \"perc_type\": \"Targeted Attack\", \"index\": 13.0}, {\"Country\": \"Tajikistan\", \"perc_type\": \"Random Attack\", \"index\": 15.0}, {\"Country\": \"Tajikistan\", \"perc_type\": \" Resilience Index\", \"index\": 16.0}, {\"Country\": \"Bhutan\", \"perc_type\": \"Local 0.5 degree\", \"index\": 13.0}, {\"Country\": \"Bhutan\", \"perc_type\": \"Local 0.1 degree\", \"index\": 7.0}, {\"Country\": \"Bhutan\", \"perc_type\": \"Local 0.05 degree\", \"index\": 9.0}, {\"Country\": \"Bhutan\", \"perc_type\": \"Targeted Attack\", \"index\": 18.0}, {\"Country\": \"Bhutan\", \"perc_type\": \"Random Attack\", \"index\": 4.0}, {\"Country\": \"Bhutan\", \"perc_type\": \" Resilience Index\", \"index\": 15.0}, {\"Country\": \"Nauru\", \"perc_type\": \"Local 0.5 degree\", \"index\": 3.5}, {\"Country\": \"Nauru\", \"perc_type\": \"Local 0.1 degree\", \"index\": 2.0}, {\"Country\": \"Nauru\", \"perc_type\": \"Local 0.05 degree\", \"index\": 1.5}, {\"Country\": \"Nauru\", \"perc_type\": \"Targeted Attack\", \"index\": 10.0}, {\"Country\": \"Nauru\", \"perc_type\": \"Random Attack\", \"index\": 20.0}, {\"Country\": \"Nauru\", \"perc_type\": \" Resilience Index\", \"index\": 14.0}, {\"Country\": \"New Caledonia\", \"perc_type\": \"Local 0.5 degree\", \"index\": 17.0}, {\"Country\": \"New Caledonia\", \"perc_type\": \"Local 0.1 degree\", \"index\": 12.0}, {\"Country\": \"New Caledonia\", \"perc_type\": \"Local 0.05 degree\", \"index\": 12.0}, {\"Country\": \"New Caledonia\", \"perc_type\": \"Targeted Attack\", \"index\": 8.0}, {\"Country\": \"New Caledonia\", \"perc_type\": \"Random Attack\", \"index\": 9.0}, {\"Country\": \"New Caledonia\", \"perc_type\": \" Resilience Index\", \"index\": 13.0}, {\"Country\": \"Micronesia\", \"perc_type\": \"Local 0.5 degree\", \"index\": 3.5}, {\"Country\": \"Micronesia\", \"perc_type\": \"Local 0.1 degree\", \"index\": 2.0}, {\"Country\": \"Micronesia\", \"perc_type\": \"Local 0.05 degree\", \"index\": 10.0}, {\"Country\": \"Micronesia\", \"perc_type\": \"Targeted Attack\", \"index\": 4.0}, {\"Country\": \"Micronesia\", \"perc_type\": \"Random Attack\", \"index\": 18.0}, {\"Country\": \"Micronesia\", \"perc_type\": \" Resilience Index\", \"index\": 12.0}, {\"Country\": \"Panama\", \"perc_type\": \"Local 0.5 degree\", \"index\": 10.0}, {\"Country\": \"Panama\", \"perc_type\": \"Local 0.1 degree\", \"index\": 18.0}, {\"Country\": \"Panama\", \"perc_type\": \"Local 0.05 degree\", \"index\": 16.0}, {\"Country\": \"Panama\", \"perc_type\": \"Targeted Attack\", \"index\": 3.0}, {\"Country\": \"Panama\", \"perc_type\": \"Random Attack\", \"index\": 17.0}, {\"Country\": \"Panama\", \"perc_type\": \" Resilience Index\", \"index\": 11.0}, {\"Country\": \"Haiti\", \"perc_type\": \"Local 0.5 degree\", \"index\": 18.0}, {\"Country\": \"Haiti\", \"perc_type\": \"Local 0.1 degree\", \"index\": 8.0}, {\"Country\": \"Haiti\", \"perc_type\": \"Local 0.05 degree\", \"index\": 4.0}, {\"Country\": \"Haiti\", \"perc_type\": \"Targeted Attack\", \"index\": 6.0}, {\"Country\": \"Haiti\", \"perc_type\": \"Random Attack\", \"index\": 10.0}, {\"Country\": \"Haiti\", \"perc_type\": \" Resilience Index\", \"index\": 10.0}, {\"Country\": \"Comoros\", \"perc_type\": \"Local 0.5 degree\", \"index\": 16.0}, {\"Country\": \"Comoros\", \"perc_type\": \"Local 0.1 degree\", \"index\": 17.0}, {\"Country\": \"Comoros\", \"perc_type\": \"Local 0.05 degree\", \"index\": 17.0}, {\"Country\": \"Comoros\", \"perc_type\": \"Targeted Attack\", \"index\": 7.0}, {\"Country\": \"Comoros\", \"perc_type\": \"Random Attack\", \"index\": 3.0}, {\"Country\": \"Comoros\", \"perc_type\": \" Resilience Index\", \"index\": 9.0}, {\"Country\": \"Madagascar\", \"perc_type\": \"Local 0.5 degree\", \"index\": 8.0}, {\"Country\": \"Madagascar\", \"perc_type\": \"Local 0.1 degree\", \"index\": 10.0}, {\"Country\": \"Madagascar\", \"perc_type\": \"Local 0.05 degree\", \"index\": 5.0}, {\"Country\": \"Madagascar\", \"perc_type\": \"Targeted Attack\", \"index\": 11.0}, {\"Country\": \"Madagascar\", \"perc_type\": \"Random Attack\", \"index\": 14.0}, {\"Country\": \"Madagascar\", \"perc_type\": \" Resilience Index\", \"index\": 8.0}, {\"Country\": \"Somalia\", \"perc_type\": \"Local 0.5 degree\", \"index\": 9.0}, {\"Country\": \"Somalia\", \"perc_type\": \"Local 0.1 degree\", \"index\": 6.0}, {\"Country\": \"Somalia\", \"perc_type\": \"Local 0.05 degree\", \"index\": 13.0}, {\"Country\": \"Somalia\", \"perc_type\": \"Targeted Attack\", \"index\": 15.0}, {\"Country\": \"Somalia\", \"perc_type\": \"Random Attack\", \"index\": 8.0}, {\"Country\": \"Somalia\", \"perc_type\": \" Resilience Index\", \"index\": 7.0}, {\"Country\": \"Bangladesh\", \"perc_type\": \"Local 0.5 degree\", \"index\": 11.0}, {\"Country\": \"Bangladesh\", \"perc_type\": \"Local 0.1 degree\", \"index\": 5.0}, {\"Country\": \"Bangladesh\", \"perc_type\": \"Local 0.05 degree\", \"index\": 6.0}, {\"Country\": \"Bangladesh\", \"perc_type\": \"Targeted Attack\", \"index\": 5.0}, {\"Country\": \"Bangladesh\", \"perc_type\": \"Random Attack\", \"index\": 16.0}, {\"Country\": \"Bangladesh\", \"perc_type\": \" Resilience Index\", \"index\": 6.0}, {\"Country\": \"Andorra\", \"perc_type\": \"Local 0.5 degree\", \"index\": 3.5}, {\"Country\": \"Andorra\", \"perc_type\": \"Local 0.1 degree\", \"index\": 14.0}, {\"Country\": \"Andorra\", \"perc_type\": \"Local 0.05 degree\", \"index\": 18.0}, {\"Country\": \"Andorra\", \"perc_type\": \"Targeted Attack\", \"index\": 16.0}, {\"Country\": \"Andorra\", \"perc_type\": \"Random Attack\", \"index\": 5.0}, {\"Country\": \"Andorra\", \"perc_type\": \" Resilience Index\", \"index\": 5.0}, {\"Country\": \"Palestina\", \"perc_type\": \"Local 0.5 degree\", \"index\": 19.0}, {\"Country\": \"Palestina\", \"perc_type\": \"Local 0.1 degree\", \"index\": 15.0}, {\"Country\": \"Palestina\", \"perc_type\": \"Local 0.05 degree\", \"index\": 8.0}, {\"Country\": \"Palestina\", \"perc_type\": \"Targeted Attack\", \"index\": 1.0}, {\"Country\": \"Palestina\", \"perc_type\": \"Random Attack\", \"index\": 13.0}, {\"Country\": \"Palestina\", \"perc_type\": \" Resilience Index\", \"index\": 4.0}, {\"Country\": \"Dominica\", \"perc_type\": \"Local 0.5 degree\", \"index\": 3.5}, {\"Country\": \"Dominica\", \"perc_type\": \"Local 0.1 degree\", \"index\": 16.0}, {\"Country\": \"Dominica\", \"perc_type\": \"Local 0.05 degree\", \"index\": 19.0}, {\"Country\": \"Dominica\", \"perc_type\": \"Targeted Attack\", \"index\": 19.0}, {\"Country\": \"Dominica\", \"perc_type\": \"Random Attack\", \"index\": 2.0}, {\"Country\": \"Dominica\", \"perc_type\": \" Resilience Index\", \"index\": 3.0}, {\"Country\": \"Saint Lucia\", \"perc_type\": \"Local 0.5 degree\", \"index\": 3.5}, {\"Country\": \"Saint Lucia\", \"perc_type\": \"Local 0.1 degree\", \"index\": 20.0}, {\"Country\": \"Saint Lucia\", \"perc_type\": \"Local 0.05 degree\", \"index\": 20.0}, {\"Country\": \"Saint Lucia\", \"perc_type\": \"Targeted Attack\", \"index\": 12.0}, {\"Country\": \"Saint Lucia\", \"perc_type\": \"Random Attack\", \"index\": 1.0}, {\"Country\": \"Saint Lucia\", \"perc_type\": \" Resilience Index\", \"index\": 2.0}, {\"Country\": \"Laos\", \"perc_type\": \"Local 0.5 degree\", \"index\": 14.0}, {\"Country\": \"Laos\", \"perc_type\": \"Local 0.1 degree\", \"index\": 4.0}, {\"Country\": \"Laos\", \"perc_type\": \"Local 0.05 degree\", \"index\": 3.0}, {\"Country\": \"Laos\", \"perc_type\": \"Targeted Attack\", \"index\": 9.0}, {\"Country\": \"Laos\", \"perc_type\": \"Random Attack\", \"index\": 12.0}, {\"Country\": \"Laos\", \"perc_type\": \" Resilience Index\", \"index\": 1.0}]}}, {\"mode\": \"vega-lite\"});\n",
       "</script>"
      ],
      "text/plain": [
       "alt.Chart(...)"
      ]
     },
     "execution_count": 14,
     "metadata": {},
     "output_type": "execute_result"
    }
   ],
   "source": [
    "df_ranked = pd.read_csv('C://Projects//trails//results//ranked_all.csv',index_col=[0,1])\n",
    "df_ranked = df_ranked.sort_values('ranked',ascending=False).head(20)\n",
    "df_ranked.loc05 = df_ranked.loc05.rank()\n",
    "df_ranked.loc01 = df_ranked.loc01.rank()\n",
    "df_ranked.loc005 = df_ranked.loc005.rank()\n",
    "df_ranked.target = df_ranked.target.rank()\n",
    "df_ranked.random = df_ranked.random.rank()\n",
    "df_ranked.avg_index = df_ranked.avg_index.rank()\n",
    "df_ranked = df_ranked.drop('ranked',axis=1)\n",
    "df_ranked = df_ranked.rename(columns={\"avg_index\": \"Total Index\"})\n",
    "df_ranked.columns = ['Local 0.5 degree','Local 0.1 degree','Local 0.05 degree','Targeted Attack','Random Attack',' Resilience Index']\n",
    "\n",
    "stacked_rank = df_ranked.stack().reset_index()\n",
    "stacked_rank.columns = ['level_0','Country','perc_type','index']\n",
    "stacked_rank = stacked_rank.drop('level_0',axis=1)\n",
    "\n",
    "alt.Chart(stacked_rank).mark_line(point = True, strokeWidth=3).encode(\n",
    "    x = alt.X(\"perc_type\", title=\"Percolation Type\"),\n",
    "    y=\"rank:O\",\n",
    "    color=alt.Color(\"Country:N\",scale=alt.Scale(scheme='category20'),sort='x')\n",
    " ).transform_window(\n",
    "     rank=\"rank()\",\n",
    "     sort=[alt.SortField(\"index\", order=\"ascending\")],\n",
    "     groupby=[\"perc_type\"]\n",
    ").properties(\n",
    "    title=\"Least affected countries\",\n",
    "    width=600,\n",
    "    height=350,\n",
    ").configure_point(size=100)"
   ]
  },
  {
   "cell_type": "code",
   "execution_count": 11,
   "id": "6d915195-608e-4db2-94f6-2d59dc43e47c",
   "metadata": {},
   "outputs": [
    {
     "data": {
      "text/html": [
       "\n",
       "<div id=\"altair-viz-1843dca4854a42409a1a4aac7ab8ddc2\"></div>\n",
       "<script type=\"text/javascript\">\n",
       "  var VEGA_DEBUG = (typeof VEGA_DEBUG == \"undefined\") ? {} : VEGA_DEBUG;\n",
       "  (function(spec, embedOpt){\n",
       "    let outputDiv = document.currentScript.previousElementSibling;\n",
       "    if (outputDiv.id !== \"altair-viz-1843dca4854a42409a1a4aac7ab8ddc2\") {\n",
       "      outputDiv = document.getElementById(\"altair-viz-1843dca4854a42409a1a4aac7ab8ddc2\");\n",
       "    }\n",
       "    const paths = {\n",
       "      \"vega\": \"https://cdn.jsdelivr.net/npm//vega@5?noext\",\n",
       "      \"vega-lib\": \"https://cdn.jsdelivr.net/npm//vega-lib?noext\",\n",
       "      \"vega-lite\": \"https://cdn.jsdelivr.net/npm//vega-lite@4.17.0?noext\",\n",
       "      \"vega-embed\": \"https://cdn.jsdelivr.net/npm//vega-embed@6?noext\",\n",
       "    };\n",
       "\n",
       "    function maybeLoadScript(lib, version) {\n",
       "      var key = `${lib.replace(\"-\", \"\")}_version`;\n",
       "      return (VEGA_DEBUG[key] == version) ?\n",
       "        Promise.resolve(paths[lib]) :\n",
       "        new Promise(function(resolve, reject) {\n",
       "          var s = document.createElement('script');\n",
       "          document.getElementsByTagName(\"head\")[0].appendChild(s);\n",
       "          s.async = true;\n",
       "          s.onload = () => {\n",
       "            VEGA_DEBUG[key] = version;\n",
       "            return resolve(paths[lib]);\n",
       "          };\n",
       "          s.onerror = () => reject(`Error loading script: ${paths[lib]}`);\n",
       "          s.src = paths[lib];\n",
       "        });\n",
       "    }\n",
       "\n",
       "    function showError(err) {\n",
       "      outputDiv.innerHTML = `<div class=\"error\" style=\"color:red;\">${err}</div>`;\n",
       "      throw err;\n",
       "    }\n",
       "\n",
       "    function displayChart(vegaEmbed) {\n",
       "      vegaEmbed(outputDiv, spec, embedOpt)\n",
       "        .catch(err => showError(`Javascript Error: ${err.message}<br>This usually means there's a typo in your chart specification. See the javascript console for the full traceback.`));\n",
       "    }\n",
       "\n",
       "    if(typeof define === \"function\" && define.amd) {\n",
       "      requirejs.config({paths});\n",
       "      require([\"vega-embed\"], displayChart, err => showError(`Error loading script: ${err.message}`));\n",
       "    } else {\n",
       "      maybeLoadScript(\"vega\", \"5\")\n",
       "        .then(() => maybeLoadScript(\"vega-lite\", \"4.17.0\"))\n",
       "        .then(() => maybeLoadScript(\"vega-embed\", \"6\"))\n",
       "        .catch(showError)\n",
       "        .then(() => displayChart(vegaEmbed));\n",
       "    }\n",
       "  })({\"config\": {\"view\": {\"continuousWidth\": 400, \"continuousHeight\": 300}, \"point\": {\"size\": 100}}, \"data\": {\"name\": \"data-d4313b46a1981d6c608784dfe216973f\"}, \"mark\": {\"type\": \"line\", \"point\": true, \"strokeWidth\": 3}, \"encoding\": {\"color\": {\"field\": \"Country\", \"scale\": {\"scheme\": \"category20\"}, \"sort\": \"-x\", \"type\": \"nominal\"}, \"x\": {\"field\": \"perc_type\", \"title\": \"Percolation Type\", \"type\": \"nominal\"}, \"y\": {\"field\": \"rank\", \"type\": \"ordinal\"}}, \"height\": 400, \"transform\": [{\"window\": [{\"op\": \"rank\", \"field\": \"\", \"as\": \"rank\"}], \"groupby\": [\"perc_type\"], \"sort\": [{\"field\": \"index\", \"order\": \"ascending\"}]}], \"width\": 1000, \"$schema\": \"https://vega.github.io/schema/vega-lite/v4.17.0.json\", \"datasets\": {\"data-d4313b46a1981d6c608784dfe216973f\": [{\"Country\": \"Kiribati\", \"perc_type\": \"Local 0.5 degree\", \"index\": 17.5}, {\"Country\": \"Kiribati\", \"perc_type\": \"Local 0.1 degree\", \"index\": 19.0}, {\"Country\": \"Kiribati\", \"perc_type\": \"Local 0.05 degree\", \"index\": 19.5}, {\"Country\": \"Kiribati\", \"perc_type\": \"Targeted Attack\", \"index\": 4.0}, {\"Country\": \"Kiribati\", \"perc_type\": \"Random Attack\", \"index\": 2.0}, {\"Country\": \"Kiribati\", \"perc_type\": \" Resilience Index\", \"index\": 1.0}, {\"Country\": \"Papua New Guinea\", \"perc_type\": \"Local 0.5 degree\", \"index\": 14.0}, {\"Country\": \"Papua New Guinea\", \"perc_type\": \"Local 0.1 degree\", \"index\": 10.0}, {\"Country\": \"Papua New Guinea\", \"perc_type\": \"Local 0.05 degree\", \"index\": 7.0}, {\"Country\": \"Papua New Guinea\", \"perc_type\": \"Targeted Attack\", \"index\": 1.0}, {\"Country\": \"Papua New Guinea\", \"perc_type\": \"Random Attack\", \"index\": 10.0}, {\"Country\": \"Papua New Guinea\", \"perc_type\": \" Resilience Index\", \"index\": 2.0}, {\"Country\": \"Trinidad and Tobago\", \"perc_type\": \"Local 0.5 degree\", \"index\": 1.0}, {\"Country\": \"Trinidad and Tobago\", \"perc_type\": \"Local 0.1 degree\", \"index\": 2.0}, {\"Country\": \"Trinidad and Tobago\", \"perc_type\": \"Local 0.05 degree\", \"index\": 14.0}, {\"Country\": \"Trinidad and Tobago\", \"perc_type\": \"Targeted Attack\", \"index\": 19.0}, {\"Country\": \"Trinidad and Tobago\", \"perc_type\": \"Random Attack\", \"index\": 15.0}, {\"Country\": \"Trinidad and Tobago\", \"perc_type\": \" Resilience Index\", \"index\": 3.0}, {\"Country\": \"Togo\", \"perc_type\": \"Local 0.5 degree\", \"index\": 6.0}, {\"Country\": \"Togo\", \"perc_type\": \"Local 0.1 degree\", \"index\": 8.0}, {\"Country\": \"Togo\", \"perc_type\": \"Local 0.05 degree\", \"index\": 6.0}, {\"Country\": \"Togo\", \"perc_type\": \"Targeted Attack\", \"index\": 7.0}, {\"Country\": \"Togo\", \"perc_type\": \"Random Attack\", \"index\": 14.0}, {\"Country\": \"Togo\", \"perc_type\": \" Resilience Index\", \"index\": 4.0}, {\"Country\": \"Tajikistan\", \"perc_type\": \"Local 0.5 degree\", \"index\": 9.0}, {\"Country\": \"Tajikistan\", \"perc_type\": \"Local 0.1 degree\", \"index\": 12.0}, {\"Country\": \"Tajikistan\", \"perc_type\": \"Local 0.05 degree\", \"index\": 10.0}, {\"Country\": \"Tajikistan\", \"perc_type\": \"Targeted Attack\", \"index\": 8.0}, {\"Country\": \"Tajikistan\", \"perc_type\": \"Random Attack\", \"index\": 6.0}, {\"Country\": \"Tajikistan\", \"perc_type\": \" Resilience Index\", \"index\": 5.0}, {\"Country\": \"Bhutan\", \"perc_type\": \"Local 0.5 degree\", \"index\": 8.0}, {\"Country\": \"Bhutan\", \"perc_type\": \"Local 0.1 degree\", \"index\": 14.0}, {\"Country\": \"Bhutan\", \"perc_type\": \"Local 0.05 degree\", \"index\": 12.0}, {\"Country\": \"Bhutan\", \"perc_type\": \"Targeted Attack\", \"index\": 3.0}, {\"Country\": \"Bhutan\", \"perc_type\": \"Random Attack\", \"index\": 17.0}, {\"Country\": \"Bhutan\", \"perc_type\": \" Resilience Index\", \"index\": 6.0}, {\"Country\": \"Nauru\", \"perc_type\": \"Local 0.5 degree\", \"index\": 17.5}, {\"Country\": \"Nauru\", \"perc_type\": \"Local 0.1 degree\", \"index\": 19.0}, {\"Country\": \"Nauru\", \"perc_type\": \"Local 0.05 degree\", \"index\": 19.5}, {\"Country\": \"Nauru\", \"perc_type\": \"Targeted Attack\", \"index\": 11.0}, {\"Country\": \"Nauru\", \"perc_type\": \"Random Attack\", \"index\": 1.0}, {\"Country\": \"Nauru\", \"perc_type\": \" Resilience Index\", \"index\": 7.0}, {\"Country\": \"New Caledonia\", \"perc_type\": \"Local 0.5 degree\", \"index\": 4.0}, {\"Country\": \"New Caledonia\", \"perc_type\": \"Local 0.1 degree\", \"index\": 9.0}, {\"Country\": \"New Caledonia\", \"perc_type\": \"Local 0.05 degree\", \"index\": 9.0}, {\"Country\": \"New Caledonia\", \"perc_type\": \"Targeted Attack\", \"index\": 13.0}, {\"Country\": \"New Caledonia\", \"perc_type\": \"Random Attack\", \"index\": 12.0}, {\"Country\": \"New Caledonia\", \"perc_type\": \" Resilience Index\", \"index\": 8.0}, {\"Country\": \"Micronesia\", \"perc_type\": \"Local 0.5 degree\", \"index\": 17.5}, {\"Country\": \"Micronesia\", \"perc_type\": \"Local 0.1 degree\", \"index\": 19.0}, {\"Country\": \"Micronesia\", \"perc_type\": \"Local 0.05 degree\", \"index\": 11.0}, {\"Country\": \"Micronesia\", \"perc_type\": \"Targeted Attack\", \"index\": 17.0}, {\"Country\": \"Micronesia\", \"perc_type\": \"Random Attack\", \"index\": 3.0}, {\"Country\": \"Micronesia\", \"perc_type\": \" Resilience Index\", \"index\": 9.0}, {\"Country\": \"Panama\", \"perc_type\": \"Local 0.5 degree\", \"index\": 11.0}, {\"Country\": \"Panama\", \"perc_type\": \"Local 0.1 degree\", \"index\": 3.0}, {\"Country\": \"Panama\", \"perc_type\": \"Local 0.05 degree\", \"index\": 5.0}, {\"Country\": \"Panama\", \"perc_type\": \"Targeted Attack\", \"index\": 18.0}, {\"Country\": \"Panama\", \"perc_type\": \"Random Attack\", \"index\": 4.0}, {\"Country\": \"Panama\", \"perc_type\": \" Resilience Index\", \"index\": 10.0}, {\"Country\": \"Haiti\", \"perc_type\": \"Local 0.5 degree\", \"index\": 3.0}, {\"Country\": \"Haiti\", \"perc_type\": \"Local 0.1 degree\", \"index\": 13.0}, {\"Country\": \"Haiti\", \"perc_type\": \"Local 0.05 degree\", \"index\": 17.0}, {\"Country\": \"Haiti\", \"perc_type\": \"Targeted Attack\", \"index\": 15.0}, {\"Country\": \"Haiti\", \"perc_type\": \"Random Attack\", \"index\": 11.0}, {\"Country\": \"Haiti\", \"perc_type\": \" Resilience Index\", \"index\": 11.0}, {\"Country\": \"Comoros\", \"perc_type\": \"Local 0.5 degree\", \"index\": 5.0}, {\"Country\": \"Comoros\", \"perc_type\": \"Local 0.1 degree\", \"index\": 4.0}, {\"Country\": \"Comoros\", \"perc_type\": \"Local 0.05 degree\", \"index\": 4.0}, {\"Country\": \"Comoros\", \"perc_type\": \"Targeted Attack\", \"index\": 14.0}, {\"Country\": \"Comoros\", \"perc_type\": \"Random Attack\", \"index\": 18.0}, {\"Country\": \"Comoros\", \"perc_type\": \" Resilience Index\", \"index\": 12.0}, {\"Country\": \"Madagascar\", \"perc_type\": \"Local 0.5 degree\", \"index\": 13.0}, {\"Country\": \"Madagascar\", \"perc_type\": \"Local 0.1 degree\", \"index\": 11.0}, {\"Country\": \"Madagascar\", \"perc_type\": \"Local 0.05 degree\", \"index\": 16.0}, {\"Country\": \"Madagascar\", \"perc_type\": \"Targeted Attack\", \"index\": 10.0}, {\"Country\": \"Madagascar\", \"perc_type\": \"Random Attack\", \"index\": 7.0}, {\"Country\": \"Madagascar\", \"perc_type\": \" Resilience Index\", \"index\": 13.0}, {\"Country\": \"Somalia\", \"perc_type\": \"Local 0.5 degree\", \"index\": 12.0}, {\"Country\": \"Somalia\", \"perc_type\": \"Local 0.1 degree\", \"index\": 15.0}, {\"Country\": \"Somalia\", \"perc_type\": \"Local 0.05 degree\", \"index\": 8.0}, {\"Country\": \"Somalia\", \"perc_type\": \"Targeted Attack\", \"index\": 6.0}, {\"Country\": \"Somalia\", \"perc_type\": \"Random Attack\", \"index\": 13.0}, {\"Country\": \"Somalia\", \"perc_type\": \" Resilience Index\", \"index\": 14.0}, {\"Country\": \"Bangladesh\", \"perc_type\": \"Local 0.5 degree\", \"index\": 10.0}, {\"Country\": \"Bangladesh\", \"perc_type\": \"Local 0.1 degree\", \"index\": 16.0}, {\"Country\": \"Bangladesh\", \"perc_type\": \"Local 0.05 degree\", \"index\": 15.0}, {\"Country\": \"Bangladesh\", \"perc_type\": \"Targeted Attack\", \"index\": 16.0}, {\"Country\": \"Bangladesh\", \"perc_type\": \"Random Attack\", \"index\": 5.0}, {\"Country\": \"Bangladesh\", \"perc_type\": \" Resilience Index\", \"index\": 15.0}, {\"Country\": \"Andorra\", \"perc_type\": \"Local 0.5 degree\", \"index\": 17.5}, {\"Country\": \"Andorra\", \"perc_type\": \"Local 0.1 degree\", \"index\": 7.0}, {\"Country\": \"Andorra\", \"perc_type\": \"Local 0.05 degree\", \"index\": 3.0}, {\"Country\": \"Andorra\", \"perc_type\": \"Targeted Attack\", \"index\": 5.0}, {\"Country\": \"Andorra\", \"perc_type\": \"Random Attack\", \"index\": 16.0}, {\"Country\": \"Andorra\", \"perc_type\": \" Resilience Index\", \"index\": 16.0}, {\"Country\": \"Palestina\", \"perc_type\": \"Local 0.5 degree\", \"index\": 2.0}, {\"Country\": \"Palestina\", \"perc_type\": \"Local 0.1 degree\", \"index\": 6.0}, {\"Country\": \"Palestina\", \"perc_type\": \"Local 0.05 degree\", \"index\": 13.0}, {\"Country\": \"Palestina\", \"perc_type\": \"Targeted Attack\", \"index\": 20.0}, {\"Country\": \"Palestina\", \"perc_type\": \"Random Attack\", \"index\": 8.0}, {\"Country\": \"Palestina\", \"perc_type\": \" Resilience Index\", \"index\": 17.0}, {\"Country\": \"Dominica\", \"perc_type\": \"Local 0.5 degree\", \"index\": 17.5}, {\"Country\": \"Dominica\", \"perc_type\": \"Local 0.1 degree\", \"index\": 5.0}, {\"Country\": \"Dominica\", \"perc_type\": \"Local 0.05 degree\", \"index\": 2.0}, {\"Country\": \"Dominica\", \"perc_type\": \"Targeted Attack\", \"index\": 2.0}, {\"Country\": \"Dominica\", \"perc_type\": \"Random Attack\", \"index\": 19.0}, {\"Country\": \"Dominica\", \"perc_type\": \" Resilience Index\", \"index\": 18.0}, {\"Country\": \"Saint Lucia\", \"perc_type\": \"Local 0.5 degree\", \"index\": 17.5}, {\"Country\": \"Saint Lucia\", \"perc_type\": \"Local 0.1 degree\", \"index\": 1.0}, {\"Country\": \"Saint Lucia\", \"perc_type\": \"Local 0.05 degree\", \"index\": 1.0}, {\"Country\": \"Saint Lucia\", \"perc_type\": \"Targeted Attack\", \"index\": 9.0}, {\"Country\": \"Saint Lucia\", \"perc_type\": \"Random Attack\", \"index\": 20.0}, {\"Country\": \"Saint Lucia\", \"perc_type\": \" Resilience Index\", \"index\": 19.0}, {\"Country\": \"Laos\", \"perc_type\": \"Local 0.5 degree\", \"index\": 7.0}, {\"Country\": \"Laos\", \"perc_type\": \"Local 0.1 degree\", \"index\": 17.0}, {\"Country\": \"Laos\", \"perc_type\": \"Local 0.05 degree\", \"index\": 18.0}, {\"Country\": \"Laos\", \"perc_type\": \"Targeted Attack\", \"index\": 12.0}, {\"Country\": \"Laos\", \"perc_type\": \"Random Attack\", \"index\": 9.0}, {\"Country\": \"Laos\", \"perc_type\": \" Resilience Index\", \"index\": 20.0}]}}, {\"mode\": \"vega-lite\"});\n",
       "</script>"
      ],
      "text/plain": [
       "alt.Chart(...)"
      ]
     },
     "execution_count": 11,
     "metadata": {},
     "output_type": "execute_result"
    }
   ],
   "source": [
    "df_ranked = pd.read_csv('C://Projects//trails//results//ranked_all.csv',index_col=[0,1])\n",
    "df_ranked = df_ranked.sort_values('ranked',ascending=False).head(20)\n",
    "df_ranked.loc05 = df_ranked.loc05.rank(ascending=False)\n",
    "df_ranked.loc01 = df_ranked.loc01.rank(ascending=False)\n",
    "df_ranked.loc005 = df_ranked.loc005.rank(ascending=False)\n",
    "df_ranked.target = df_ranked.target.rank(ascending=False)\n",
    "df_ranked.random = df_ranked.random.rank(ascending=False)\n",
    "df_ranked.avg_index = df_ranked.avg_index.rank(ascending=False)\n",
    "df_ranked = df_ranked.drop('ranked',axis=1)\n",
    "df_ranked = df_ranked.rename(columns={\"avg_index\": \"Total Index\"})\n",
    "df_ranked.columns = ['Local 0.5 degree','Local 0.1 degree','Local 0.05 degree','Targeted Attack','Random Attack',' Resilience Index']\n",
    "\n",
    "stacked_rank = df_ranked.stack().reset_index()\n",
    "stacked_rank.columns = ['level_0','Country','perc_type','index']\n",
    "stacked_rank = stacked_rank.drop('level_0',axis=1)\n",
    "\n",
    "chart = alt.Chart(stacked_rank).mark_line(point = True, strokeWidth=3).encode(\n",
    "    x = alt.X(\"perc_type\", title=\"Percolation Type\"),\n",
    "    y=\"rank:O\",\n",
    "    color=alt.Color(\"Country:N\",scale=alt.Scale(scheme='category20'),sort='-x')\n",
    " ).transform_window(\n",
    "     rank=\"rank()\",\n",
    "     sort=[alt.SortField(\"index\", order=\"ascending\")],\n",
    "     groupby=[\"perc_type\"]\n",
    ").properties(\n",
    "    width=1000,\n",
    "    height=400,\n",
    ").configure_point(size=100)\n",
    "\n",
    "chart\n",
    "#save(chart,'worst_affected.html')"
   ]
  },
  {
   "cell_type": "code",
   "execution_count": 18,
   "id": "eef26a4b-73da-4bf7-842f-43cf6fd98279",
   "metadata": {},
   "outputs": [
    {
     "data": {
      "text/plain": [
       "<pygeos.Geometry POLYGON ((0 0, 0 1, 1 1, 2 1, 2 0, 1 0, 0 0))>"
      ]
     },
     "execution_count": 18,
     "metadata": {},
     "output_type": "execute_result"
    }
   ],
   "source": [
    "from pygeos.constructive import normalize\n",
    "import pygeos\n",
    "polygon_1 = pygeos.Geometry(\"POLYGON ((0 0, 0 1, 1 1, 1 0, 0 0))\")\n",
    "polygon_2 = pygeos.Geometry(\"POLYGON ((1 0, 1 1, 2 1, 2 0, 1 0))\")\n",
    "normalize(pygeos.coverage_union_all([polygon_1, polygon_2]))"
   ]
  },
  {
   "cell_type": "code",
   "execution_count": null,
   "id": "fb51bf78-5d31-4444-a284-7051027e799f",
   "metadata": {},
   "outputs": [],
   "source": [
    "pygeos.coverage_union_all"
   ]
  }
 ],
 "metadata": {
  "kernelspec": {
   "display_name": "Python 3 (ipykernel)",
   "language": "python",
   "name": "python3"
  },
  "language_info": {
   "codemirror_mode": {
    "name": "ipython",
    "version": 3
   },
   "file_extension": ".py",
   "mimetype": "text/x-python",
   "name": "python",
   "nbconvert_exporter": "python",
   "pygments_lexer": "ipython3",
   "version": "3.9.7"
  }
 },
 "nbformat": 4,
 "nbformat_minor": 5
}
