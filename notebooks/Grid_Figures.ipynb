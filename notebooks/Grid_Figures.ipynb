{
 "cells": [
  {
   "cell_type": "code",
   "execution_count": 1,
   "metadata": {},
   "outputs": [],
   "source": [
    "import os,sys\n",
    "import numpy as np\n",
    "import pandas as pd\n",
    "from tqdm import tqdm\n",
    "import matplotlib.pyplot as plt\n",
    "import time\n",
    "import pygeos\n",
    "import geopandas as gpd\n",
    "import contextily as cx\n",
    "import seaborn as sns\n",
    "from matplotlib.ticker import MaxNLocator\n",
    "from scipy import interpolate\n",
    "import seaborn as sns\n",
    "import pyproj\n",
    "import pygeos\n",
    "from mpl_toolkits.axes_grid1 import make_axes_locatable\n",
    "\n",
    "# path to python scripts\n",
    "sys.path.append(os.path.join('..','src','trails'))\n",
    "\n",
    "from population_OD import *\n",
    "\n",
    "#from network import *"
   ]
  },
  {
   "cell_type": "code",
   "execution_count": 2,
   "metadata": {},
   "outputs": [],
   "source": [
    "# set data paths to results\n",
    "data_random_attack = r'C:\\Data\\Global_Percolation\\percolation_results_random_attack_regular'\n",
    "data_targeted_attack = r'C:\\Data\\Global_Percolation\\percolation_results_targeted_attack'\n",
    "data_local_attack_05 = r'C:\\Data\\Global_Percolation\\percolation_results_local_attack_05'\n",
    "data_local_attack_01 = r'C:\\Data\\Global_Percolation\\percolation_results_local_attack_01'\n",
    "data_local_attack_005 = r'C:\\Data\\Global_Percolation\\percolation_results_local_attack_005'\n",
    "\n",
    "data_path_met= r'C:\\Data\\Global_Percolation\\percolation_metrics'\n",
    "data_path_net = r'C:\\Data\\Global_Percolation\\percolation_networks'\n",
    "data_path_grids = r'C:\\Data\\Global_Percolation\\percolation_grids'\n",
    "\n",
    "# file to get full country names\n",
    "glob_info = pd.read_excel(r'C:\\Projects\\trails\\data\\global_information.xlsx')\n",
    "gdp_cap_country = pd.read_csv(r'C:\\Projects\\trails\\data\\percolation\\worldbank_gdp_2019.csv',sep=';')\n",
    "income_groups = pd.read_excel(r'C:\\Projects\\trails\\data\\percolation\\CLASS.xls',sheet_name='Groups')\n",
    "\n",
    "# get all files from data paths\n",
    "perc_files = os.listdir(data_random_attack)\n",
    "perc_files_targeted_attack = os.listdir(data_targeted_attack)\n",
    "perc_files_local_attack_05 = os.listdir(data_local_attack_05)\n",
    "perc_files_local_attack_01 = os.listdir(data_local_attack_01)\n",
    "perc_files_local_attack_005 = os.listdir(data_local_attack_005)\n",
    "\n",
    "grid_files = os.listdir(data_path_grids)\n",
    "\n",
    "met_files = os.listdir(data_path_met)\n",
    "net_files = os.listdir(data_path_net)"
   ]
  },
  {
   "cell_type": "code",
   "execution_count": 3,
   "metadata": {},
   "outputs": [],
   "source": [
    "continent_dict = dict(zip(glob_info['ISO_3digit'],glob_info['continent']))"
   ]
  },
  {
   "cell_type": "code",
   "execution_count": 4,
   "metadata": {},
   "outputs": [
    {
     "name": "stdout",
     "output_type": "stream",
     "text": [
      "Wall time: 16.5 s\n"
     ]
    }
   ],
   "source": [
    "%%time\n",
    "gadm36 = gpd.read_file(r'C:/Data/Global_Geospatial/GADM/gadm36_levels.gpkg',layer=0)\n",
    "py_geoms = pygeos.from_shapely(gadm36.geometry.values)\n",
    "gadm36.geometry = py_geoms"
   ]
  },
  {
   "cell_type": "code",
   "execution_count": 5,
   "metadata": {},
   "outputs": [
    {
     "name": "stdout",
     "output_type": "stream",
     "text": [
      "Wall time: 3.03 ms\n"
     ]
    }
   ],
   "source": [
    "%%time\n",
    "gadm36 = gadm36.loc[gadm36.GID_0.isin(glob_info.ISO_3digit.values)]\n",
    "gadm36['continent'] = gadm36.GID_0.apply(lambda x: continent_dict[x])"
   ]
  },
  {
   "cell_type": "code",
   "execution_count": 6,
   "metadata": {},
   "outputs": [
    {
     "name": "stdout",
     "output_type": "stream",
     "text": [
      "Wall time: 1min 4s\n"
     ]
    }
   ],
   "source": [
    "%%time\n",
    "gadm36 = pd.DataFrame(gadm36.copy()) #.loc[gadm36.continent == 'South-America']\n",
    "gadm36.geometry = pygeos.make_valid(pygeos.from_shapely(gadm36.geometry))"
   ]
  },
  {
   "cell_type": "code",
   "execution_count": 7,
   "metadata": {},
   "outputs": [],
   "source": [
    "gadm36.geometry = pygeos.simplify(gadm36.geometry,tolerance=0.1,preserve_topology=True)"
   ]
  },
  {
   "cell_type": "code",
   "execution_count": null,
   "metadata": {},
   "outputs": [],
   "source": [
    "%%time\n",
    "global_shape = pygeos.buffer(pygeos.multipolygons(pygeos.get_parts(gadm36.geometry.values)),0.1)"
   ]
  },
  {
   "cell_type": "code",
   "execution_count": 7,
   "metadata": {},
   "outputs": [
    {
     "ename": "NameError",
     "evalue": "name 'global_shape' is not defined",
     "output_type": "error",
     "traceback": [
      "\u001b[1;31m---------------------------------------------------------------------------\u001b[0m",
      "\u001b[1;31mNameError\u001b[0m                                 Traceback (most recent call last)",
      "\u001b[1;32m<timed exec>\u001b[0m in \u001b[0;36m<module>\u001b[1;34m\u001b[0m\n",
      "\u001b[1;31mNameError\u001b[0m: name 'global_shape' is not defined"
     ]
    }
   ],
   "source": [
    "%%time\n",
    "grid = create_grid(create_bbox(pd.DataFrame([global_shape],columns=['geometry'])),0.5)\n",
    "pygeos.prepare(grid)"
   ]
  },
  {
   "cell_type": "code",
   "execution_count": null,
   "metadata": {},
   "outputs": [],
   "source": [
    "tqdm.pandas()\n",
    "\n",
    "grid = pd.DataFrame(grid,columns=['geometry'])\n",
    "\n",
    "clip_grid = grid.geometry.progress_apply(lambda x: pygeos.intersection(x,global_shape))\n",
    "\n",
    "grid.geometry = clip_grid\n",
    "grid = grid.loc[~pygeos.is_empty(grid.geometry)]\n",
    "grid.reset_index(drop=True,inplace=True)"
   ]
  },
  {
   "cell_type": "code",
   "execution_count": null,
   "metadata": {},
   "outputs": [],
   "source": [
    "country_grids = {}\n",
    "\n",
    "for country in tqdm(glob_info.ISO_3digit.values,total=len(glob_info.ISO_3digit.values)):\n",
    "\n",
    "    network = 0\n",
    "    #specify file\n",
    "    # if glob_info.loc[glob_info.ISO_3digit == country].continent.values[0] != 'Europe':\n",
    "    #     continue\n",
    "    file = '{}_{}_results.csv'.format(country,network)\n",
    "        \n",
    "    # 0.5 degree\n",
    "    try:\n",
    "        df_local_05 = pd.read_csv(os.path.join(data_local_attack_05,file),index_col=[0])\n",
    "        grid_05 = pd.read_csv(os.path.join(data_path_grids,'{}_{}_05.csv'.format(country,network)))\n",
    "        grid_05 = grid_05.rename(columns={\"Unnamed: 0\": \"grid_no\"})\n",
    "        grid_05 = gpd.GeoDataFrame(grid_05.join(df_local_05[['grid_no','pct_isolated','pct_delayed']].set_index('grid_no'),on='grid_no').fillna(0))\n",
    "        grid_05.geometry = pygeos.from_wkt(grid_05.geometry) \n",
    "        \n",
    "        country_grids[country] = grid_05\n",
    "    except:\n",
    "        None"
   ]
  },
  {
   "cell_type": "code",
   "execution_count": null,
   "metadata": {},
   "outputs": [],
   "source": [
    "grid_data = pd.concat(country_grids)[['geometry','urban','pct_isolated','pct_delayed']].reset_index()"
   ]
  },
  {
   "cell_type": "code",
   "execution_count": null,
   "metadata": {},
   "outputs": [],
   "source": [
    "tree = pygeos.STRtree(pygeos.centroid(pygeos.from_shapely(grid_data.geometry)))"
   ]
  },
  {
   "cell_type": "code",
   "execution_count": null,
   "metadata": {},
   "outputs": [],
   "source": [
    "collect_data = []\n",
    "for grid_cell in tqdm(grid.iterrows(),total=len(grid)):\n",
    "    get_data = list(grid_data.loc[tree.query(grid_cell[1].values[0])][['pct_isolated','pct_delayed']].values)\n",
    "\n",
    "    if len(get_data) == 0:\n",
    "        collect_data.append([grid_cell[0]]+[0,0])\n",
    "    elif len(get_data) > 1:\n",
    "        collect_data.append([grid_cell[0]]+[max([x[0] for x in get_data]),max([x[1] for x in get_data])])\n",
    "    else:\n",
    "        collect_data.append([grid_cell[0]]+[max([x[0] for x in get_data]),max([x[1] for x in get_data])])\n",
    "#africa_grid.progress_apply(lambda x: print(x.Name),axis=1) #africa_data.loc[tree.query(africa_grid.iloc[x.Name]['geometry'])][['urban','pct_isolated','pct_delayed']].values,axis=1)"
   ]
  },
  {
   "cell_type": "code",
   "execution_count": null,
   "metadata": {},
   "outputs": [],
   "source": [
    "grid_info = pd.DataFrame(collect_data,columns=['grid_no','pct_isolated','pct_delayed'])"
   ]
  },
  {
   "cell_type": "code",
   "execution_count": null,
   "metadata": {},
   "outputs": [],
   "source": [
    "#grid_info.to_csv('C://Projects//trails//results//degree005_results.csv')\n",
    "grid_info = pd.read_csv('C://Projects//trails//results//degree005_results.csv',index_col=[0])"
   ]
  },
  {
   "cell_type": "code",
   "execution_count": null,
   "metadata": {},
   "outputs": [],
   "source": [
    "fig, axs = plt.subplots(2,1,figsize=(20,15))\n",
    "\n",
    "for iter_,ax in enumerate(axs.flatten()):\n",
    "\n",
    "    if iter_ == 0:\n",
    "        divider = make_axes_locatable(ax)\n",
    "        cax = divider.append_axes(\"right\", size=\"3%\", pad=0.1)         \n",
    "        gpd.GeoDataFrame(grid.join(grid_info.set_index('grid_no'),how='left')).plot(column='pct_isolated',cmap='Reds',ax=ax,cax=cax,legend=True)\n",
    "        ax.set_title('Percentage of trips isolated')\n",
    "\n",
    "    else:\n",
    "        divider = make_axes_locatable(ax)\n",
    "        cax = divider.append_axes(\"right\", size=\"3%\", pad=0.1)  \n",
    "        gpd.GeoDataFrame(grid.join(grid_info.set_index('grid_no'),how='left')).plot(column='pct_delayed',cmap='Reds',ax=ax,cax=cax,legend=True)\n",
    "        ax.set_title('Percentage of trips delayed')\n",
    "        \n",
    "fig.savefig('../figures/loc05_globalgrid.png')"
   ]
  },
  {
   "cell_type": "code",
   "execution_count": null,
   "metadata": {},
   "outputs": [],
   "source": []
  },
  {
   "cell_type": "code",
   "execution_count": null,
   "metadata": {},
   "outputs": [],
   "source": []
  }
 ],
 "metadata": {
  "kernelspec": {
   "display_name": "Python 3 (ipykernel)",
   "language": "python",
   "name": "python3"
  },
  "language_info": {
   "codemirror_mode": {
    "name": "ipython",
    "version": 3
   },
   "file_extension": ".py",
   "mimetype": "text/x-python",
   "name": "python",
   "nbconvert_exporter": "python",
   "pygments_lexer": "ipython3",
   "version": "3.9.7"
  }
 },
 "nbformat": 4,
 "nbformat_minor": 4
}
